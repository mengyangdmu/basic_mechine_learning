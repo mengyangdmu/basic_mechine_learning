{
 "cells": [
  {
   "cell_type": "markdown",
   "metadata": {},
   "source": [
    "# 第一个线性感知机算法：PLA"
   ]
  },
  {
   "cell_type": "markdown",
   "metadata": {
    "collapsed": true
   },
   "source": [
    "## 1. 什么是感知机（Perceptron）"
   ]
  },
  {
   "cell_type": "markdown",
   "metadata": {},
   "source": [
    "**PLA**全称是Perceptron Linear Algorithm，即线性感知机算法，属于一种最简单的**感知机**（Perceptron）模型。"
   ]
  },
  {
   "cell_type": "markdown",
   "metadata": {},
   "source": [
    "感知机模型是机器学习二分类问题中的一个非常简单的模型。它的基本结构如下图所示："
   ]
  },
  {
   "cell_type": "markdown",
   "metadata": {},
   "source": [
    "![](img/../pic/1.jpg)"
   ]
  },
  {
   "cell_type": "markdown",
   "metadata": {},
   "source": [
    "其中，$x_i$是输入，$w_i$表示**权重系数**，$b$表示**偏移常数**。感知机的线性输出为："
   ]
  },
  {
   "cell_type": "markdown",
   "metadata": {},
   "source": [
    "$$scores=\\sum_i^Nw_ix_i+b$$"
   ]
  },
  {
   "cell_type": "markdown",
   "metadata": {},
   "source": [
    "为了简化计算，通常我们将$b$作为**权重系数**的一个维度，即$w_0$。同时，将输入$x$扩展一个维度，为1。这样，上式简化为："
   ]
  },
  {
   "cell_type": "markdown",
   "metadata": {},
   "source": [
    "$$scores=\\sum_i^{N+1}w_ix_i$$"
   ]
  },
  {
   "cell_type": "markdown",
   "metadata": {},
   "source": [
    "$scores$是感知机的输出，接下来就要对$scores$进行判断："
   ]
  },
  {
   "cell_type": "markdown",
   "metadata": {},
   "source": [
    "* 若$scores\\geq0$，则$\\hat y=1$（正类）\n",
    "\n",
    "* 若$scores<0$，则$\\hat y=-1$（负类）"
   ]
  },
  {
   "cell_type": "markdown",
   "metadata": {},
   "source": [
    "以上就是线性感知机模型的基本概念，简单来说，它由**线性得分计算**和**阈值比较**两个过程组成，最后根据比较结果判断样本属于正类还是负类。"
   ]
  },
  {
   "cell_type": "markdown",
   "metadata": {},
   "source": [
    "## 2. PLA理论解释"
   ]
  },
  {
   "cell_type": "markdown",
   "metadata": {},
   "source": [
    "对于二分类问题，可以使用感知机模型来解决。PLA的基本原理就是**逐点修正**，首先在超平面上随意取一条分类面，统计分类错误的点；然后随机对某个错误点就行修正，即变换直线的位置，使该错误点得以修正；接着再随机选择一个错误点进行纠正，分类面不断变化，直到所有的点都完全分类正确了，就得到了最佳的分类面。"
   ]
  },
  {
   "cell_type": "markdown",
   "metadata": {},
   "source": [
    "利用二维平面例子来进行解释，第一种情况是错误地将正样本（y=1）分类为负样本（y=-1）。此时，$wx<0$，即$w$与$x$的夹角大于90度，分类线$l$的两侧。修正的方法是让夹角变小，修正$w$值，使二者位于直线同侧："
   ]
  },
  {
   "cell_type": "markdown",
   "metadata": {},
   "source": [
    "$$w:=w+x=w+yx$$"
   ]
  },
  {
   "cell_type": "markdown",
   "metadata": {},
   "source": [
    "修正过程示意图如下所示："
   ]
  },
  {
   "cell_type": "markdown",
   "metadata": {},
   "source": [
    "![](img/../pic/2.jpg)"
   ]
  },
  {
   "cell_type": "markdown",
   "metadata": {
    "collapsed": true
   },
   "source": [
    "第二种情况是错误地将负样本（y=-1）分类为正样本（y=1）。此时，$wx>0$，即$w$与$x$的夹角小于90度，分类线$l$的同一侧。修正的方法是让夹角变大，修正$w$值，使二者位于直线两侧："
   ]
  },
  {
   "cell_type": "markdown",
   "metadata": {},
   "source": [
    "$$w:=w-x=w+yx$$"
   ]
  },
  {
   "cell_type": "markdown",
   "metadata": {},
   "source": [
    "修正过程示意图如下所示："
   ]
  },
  {
   "cell_type": "markdown",
   "metadata": {},
   "source": [
    "![](img/../pic/3.jpg)"
   ]
  },
  {
   "cell_type": "markdown",
   "metadata": {
    "collapsed": true
   },
   "source": [
    "经过两种情况分析，我们发现PLA每次$w$的更新表达式都是一样的：$w:=w+yx$。掌握了每次$w$的优化表达式，那么PLA就能不断地将所有错误的分类样本纠正并分类正确。"
   ]
  },
  {
   "cell_type": "markdown",
   "metadata": {},
   "source": [
    "## 3. 数据准备"
   ]
  },
  {
   "cell_type": "markdown",
   "metadata": {},
   "source": [
    "### 导入数据"
   ]
  },
  {
   "cell_type": "markdown",
   "metadata": {},
   "source": [
    "数据集存放在'../data/'目录下，该数据集包含了100个样本，正负样本各50，特征维度为2。"
   ]
  },
  {
   "cell_type": "code",
   "execution_count": 268,
   "metadata": {
    "collapsed": true
   },
   "outputs": [],
   "source": [
    "import numpy as np\n",
    "import pandas as pd\n",
    "\n",
    "data = pd.read_csv('./data/data1.csv', header=None)\n",
    "# 样本输入，维度（100，2）\n",
    "X = data.iloc[:,:2].values\n",
    "# 样本输出，维度（100，）\n",
    "y = data.iloc[:,2].values"
   ]
  },
  {
   "cell_type": "markdown",
   "metadata": {},
   "source": [
    "### 数据分类与可视化"
   ]
  },
  {
   "cell_type": "markdown",
   "metadata": {},
   "source": [
    "下面我们在二维平面上绘出正负样本的分布情况。"
   ]
  },
  {
   "cell_type": "code",
   "execution_count": 269,
   "metadata": {},
   "outputs": [
    {
     "data": {
      "image/png": "[encoded data removed]",
      "text/plain": [
       "<matplotlib.figure.Figure at 0xb486cf8>"
      ]
     },
     "metadata": {},
     "output_type": "display_data"
    }
   ],
   "source": [
    "import matplotlib.pyplot as plt\n",
    "\n",
    "plt.scatter(X[:50, 0], X[:50, 1], color='blue', marker='o', label='Positive')\n",
    "plt.scatter(X[50:, 0], X[50:, 1], color='red', marker='x', label='Negative')\n",
    "plt.xlabel('Feature 1')\n",
    "plt.ylabel('Feature 2')\n",
    "plt.legend(loc = 'upper left')\n",
    "plt.title('Original Data')\n",
    "plt.show()"
   ]
  },
  {
   "cell_type": "markdown",
   "metadata": {},
   "source": [
    "## 4. PLA算法"
   ]
  },
  {
   "cell_type": "markdown",
   "metadata": {},
   "source": [
    "### 特征归一化"
   ]
  },
  {
   "cell_type": "markdown",
   "metadata": {},
   "source": [
    "首先分别对两个特征进行归一化处理，即："
   ]
  },
  {
   "cell_type": "markdown",
   "metadata": {},
   "source": [
    "$$X=\\frac{X-\\mu}{\\sigma}$$"
   ]
  },
  {
   "cell_type": "markdown",
   "metadata": {},
   "source": [
    "其中，$\\mu$是特征均值，$\\sigma$是特征标准差。"
   ]
  },
  {
   "cell_type": "code",
   "execution_count": 270,
   "metadata": {},
   "outputs": [
    {
     "data": {
      "image/png": "[encoded data removed]",
      "text/plain": [
       "<matplotlib.figure.Figure at 0xb5a8860>"
      ]
     },
     "metadata": {},
     "output_type": "display_data"
    }
   ],
   "source": [
    "# 均值\n",
    "u = np.mean(X, axis=0)\n",
    "# 方差\n",
    "v = np.std(X, axis=0)\n",
    "\n",
    "X = (X - u) / v\n",
    "\n",
    "# 作图\n",
    "plt.scatter(X[:50, 0], X[:50, 1], color='blue', marker='o', label='Positive')\n",
    "plt.scatter(X[50:, 0], X[50:, 1], color='red', marker='x', label='Negative')\n",
    "plt.xlabel('Feature 1')\n",
    "plt.ylabel('Feature 2')\n",
    "plt.legend(loc = 'upper left')\n",
    "plt.title('Normalization data')\n",
    "plt.show()"
   ]
  },
  {
   "cell_type": "markdown",
   "metadata": {},
   "source": [
    "### 直线初始化"
   ]
  },
  {
   "cell_type": "code",
   "execution_count": 271,
   "metadata": {
    "collapsed": true
   },
   "outputs": [],
   "source": [
    "# X加上偏置项\n",
    "X = np.hstack((np.ones((X.shape[0],1)), X))\n",
    "# 权重初始化\n",
    "w = np.random.randn(3,1)"
   ]
  },
  {
   "cell_type": "markdown",
   "metadata": {},
   "source": [
    "显示初始化直线位置："
   ]
  },
  {
   "cell_type": "code",
   "execution_count": 272,
   "metadata": {},
   "outputs": [
    {
     "data": {
      "image/png": "[encoded data removed]",
      "text/plain": [
       "<matplotlib.figure.Figure at 0xb5e4ef0>"
      ]
     },
     "metadata": {},
     "output_type": "display_data"
    }
   ],
   "source": [
    "# 直线第一个坐标（x1，y1）\n",
    "x1 = -2\n",
    "y1 = -1 / w[2] * (w[0] * 1 + w[1] * x1)\n",
    "# 直线第二个坐标（x2，y2）\n",
    "x2 = 2\n",
    "y2 = -1 / w[2] * (w[0] * 1 + w[1] * x2)\n",
    "# 作图\n",
    "plt.scatter(X[:50, 1], X[:50, 2], color='blue', marker='o', label='Positive')\n",
    "plt.scatter(X[50:, 1], X[50:, 2], color='red', marker='x', label='Negative')\n",
    "plt.plot([x1,x2], [y1,y2],'r')\n",
    "plt.xlabel('Feature 1')\n",
    "plt.ylabel('Feature 2')\n",
    "plt.legend(loc = 'upper left')\n",
    "plt.show()"
   ]
  },
  {
   "cell_type": "markdown",
   "metadata": {},
   "source": [
    "由上图可见，一般随机生成的分类线，错误率很高。"
   ]
  },
  {
   "cell_type": "markdown",
   "metadata": {},
   "source": [
    "### 计算scores，更新权重"
   ]
  },
  {
   "cell_type": "markdown",
   "metadata": {},
   "source": [
    "接下来，计算scores，得分函数与阈值0做比较，大于零则$\\hat y=1$，小于零则$\\hat y=-1$"
   ]
  },
  {
   "cell_type": "code",
   "execution_count": 273,
   "metadata": {
    "collapsed": true
   },
   "outputs": [],
   "source": [
    "s = np.dot(X, w)\n",
    "y_pred = np.ones_like(y)    # 预测输出初始化\n",
    "loc_n = np.where(s < 0)[0]    # 大于零索引下标\n",
    "y_pred[loc_n] = -1"
   ]
  },
  {
   "cell_type": "markdown",
   "metadata": {},
   "source": [
    "接着，从分类错误的样本中选择一个，使用PLA更新权重系数$w$。"
   ]
  },
  {
   "cell_type": "code",
   "execution_count": 274,
   "metadata": {},
   "outputs": [],
   "source": [
    "# 第一个分类错误的点\n",
    "t = np.where(y != y_pred)[0][0]\n",
    "# 更新权重w\n",
    "w += y[t] * X[t, :].reshape((3,1))"
   ]
  },
  {
   "cell_type": "markdown",
   "metadata": {},
   "source": [
    "### 迭代更新训练"
   ]
  },
  {
   "cell_type": "markdown",
   "metadata": {},
   "source": [
    "更新权重$w$是个迭代过程，只要存在分类错误的样本，就不断进行更新，直至所有的样本都分类正确。（注意，前提是正负样本完全可分）"
   ]
  },
  {
   "cell_type": "code",
   "execution_count": 275,
   "metadata": {},
   "outputs": [
    {
     "name": "stdout",
     "output_type": "stream",
     "text": [
      "第 0次更新，分类错误的点个数：22\n",
      "第 1次更新，分类错误的点个数： 7\n",
      "第 2次更新，分类错误的点个数：13\n",
      "第 3次更新，分类错误的点个数： 0\n"
     ]
    }
   ],
   "source": [
    "for i in range(100):\n",
    "    s = np.dot(X, w)\n",
    "    y_pred = np.ones_like(y)\n",
    "    loc_n = np.where(s < 0)[0]\n",
    "    y_pred[loc_n] = -1\n",
    "    num_fault = len(np.where(y != y_pred)[0])\n",
    "    print('第%2d次更新，分类错误的点个数：%2d' % (i, num_fault))\n",
    "    if num_fault == 0:\n",
    "        break\n",
    "    else:\n",
    "        t = np.where(y != y_pred)[0][0]\n",
    "        w += y[t] * X[t, :].reshape((3,1))"
   ]
  },
  {
   "cell_type": "markdown",
   "metadata": {},
   "source": [
    "迭代完毕后，得到更新后的权重系数$w$，绘制此时的分类直线是什么样子。"
   ]
  },
  {
   "cell_type": "code",
   "execution_count": 276,
   "metadata": {},
   "outputs": [
    {
     "data": {
      "image/png": "[encoded data removed]",
      "text/plain": [
       "<matplotlib.figure.Figure at 0xb534d68>"
      ]
     },
     "metadata": {},
     "output_type": "display_data"
    }
   ],
   "source": [
    "# 直线第一个坐标（x1，y1）\n",
    "x1 = -2\n",
    "y1 = -1 / w[2] * (w[0] * 1 + w[1] * x1)\n",
    "# 直线第二个坐标（x2，y2）\n",
    "x2 = 2\n",
    "y2 = -1 / w[2] * (w[0] * 1 + w[1] * x2)\n",
    "# 作图\n",
    "plt.scatter(X[:50, 1], X[:50, 2], color='blue', marker='o', label='Positive')\n",
    "plt.scatter(X[50:, 1], X[50:, 2], color='red', marker='x', label='Negative')\n",
    "plt.plot([x1,x2], [y1,y2],'r')\n",
    "plt.xlabel('Feature 1')\n",
    "plt.ylabel('Feature 2')\n",
    "plt.legend(loc = 'upper left')\n",
    "plt.show()"
   ]
  },
  {
   "cell_type": "markdown",
   "metadata": {},
   "source": [
    "其实，PLA算法的效率还算不错，只需要数次更新就能找到一条能将所有样本完全分类正确的分类线。所以得出结论，对于正负样本线性可分的情况，PLA能够在有限次迭代后得到正确的分类直线。"
   ]
  },
  {
   "cell_type": "markdown",
   "metadata": {},
   "source": [
    "## 5. PCA优化"
   ]
  },
  {
   "cell_type": "markdown",
   "metadata": {},
   "source": [
    "刚刚我们的数据是线性可分的，可以使用PCA来得到分类直线。但是，如果数据不是线性可分，即找不到一条直线能够将所有的正负样本完全分类正确，这种情况下，似乎PCA会永远更新迭代下去，却找不到正确的分类线。所以，对于数据不可分的情况，应该要对PCA进行改进、优化。"
   ]
  },
  {
   "cell_type": "markdown",
   "metadata": {},
   "source": [
    "PCA优化的基本做法很简单，就是如果迭代更新后分类错误样本比前一次少，则更新权重系数$w$；没有减少则保持当前权重系数$w$不变。也就是说，可以把条件放松，即不苛求每个点都分类正确，而是容忍有错误点，取错误点的个数最少时的权重系数$w$。通常在有限的迭代次数里，都能保证得到最佳的分类线。"
   ]
  },
  {
   "cell_type": "markdown",
   "metadata": {
    "collapsed": true
   },
   "source": [
    "### 导入数据"
   ]
  },
  {
   "cell_type": "markdown",
   "metadata": {},
   "source": [
    "数据集存放在'../data/'目录下，该数据集包含了100个样本，正负样本各50，特征维度为2。"
   ]
  },
  {
   "cell_type": "code",
   "execution_count": 277,
   "metadata": {
    "collapsed": true
   },
   "outputs": [],
   "source": [
    "data = pd.read_csv('./data/data2.csv', header=None)\n",
    "# 样本输入，维度（100，2）\n",
    "X = data.iloc[:,:2].values\n",
    "# 样本输出，维度（100，）\n",
    "y = data.iloc[:,2].values"
   ]
  },
  {
   "cell_type": "markdown",
   "metadata": {},
   "source": [
    "### 数据分类与可视化"
   ]
  },
  {
   "cell_type": "markdown",
   "metadata": {},
   "source": [
    "下面我们在二维平面上绘出正负样本的分布情况。"
   ]
  },
  {
   "cell_type": "code",
   "execution_count": 278,
   "metadata": {},
   "outputs": [
    {
     "data": {
      "image/png": "[encoded data removed]",
      "text/plain": [
       "<matplotlib.figure.Figure at 0xb5bd320>"
      ]
     },
     "metadata": {},
     "output_type": "display_data"
    }
   ],
   "source": [
    "import matplotlib.pyplot as plt\n",
    "\n",
    "plt.scatter(X[:50, 0], X[:50, 1], color='blue', marker='o', label='Positive')\n",
    "plt.scatter(X[50:, 0], X[50:, 1], color='red', marker='x', label='Negative')\n",
    "plt.xlabel('Feature 1')\n",
    "plt.ylabel('Feature 2')\n",
    "plt.legend(loc = 'upper left')\n",
    "plt.title('Original Data')\n",
    "plt.show()"
   ]
  },
  {
   "cell_type": "markdown",
   "metadata": {},
   "source": [
    "很明显，从图中可以看出，正类和负类样本并不是线性可分的。这时候，我们就需要对PCA进行改进，寻找合适的分类线。"
   ]
  },
  {
   "cell_type": "markdown",
   "metadata": {},
   "source": [
    "### 特征归一化"
   ]
  },
  {
   "cell_type": "code",
   "execution_count": 279,
   "metadata": {},
   "outputs": [
    {
     "data": {
      "image/png": "[encoded data removed]",
      "text/plain": [
       "<matplotlib.figure.Figure at 0xb5bd668>"
      ]
     },
     "metadata": {},
     "output_type": "display_data"
    }
   ],
   "source": [
    "# 均值\n",
    "u = np.mean(X, axis=0)\n",
    "# 方差\n",
    "v = np.std(X, axis=0)\n",
    "\n",
    "X = (X - u) / v\n",
    "\n",
    "# 作图\n",
    "plt.scatter(X[:50, 0], X[:50, 1], color='blue', marker='o', label='Positive')\n",
    "plt.scatter(X[50:, 0], X[50:, 1], color='red', marker='x', label='Negative')\n",
    "plt.xlabel('Feature 1')\n",
    "plt.ylabel('Feature 2')\n",
    "plt.legend(loc = 'upper left')\n",
    "plt.title('Normalization data')\n",
    "plt.show()"
   ]
  },
  {
   "cell_type": "markdown",
   "metadata": {},
   "source": [
    "### 直线初始化"
   ]
  },
  {
   "cell_type": "code",
   "execution_count": 280,
   "metadata": {
    "collapsed": true
   },
   "outputs": [],
   "source": [
    "# X加上偏置项\n",
    "X = np.hstack((np.ones((X.shape[0],1)), X))\n",
    "# 权重初始化\n",
    "w = np.random.randn(3,1)"
   ]
  },
  {
   "cell_type": "markdown",
   "metadata": {},
   "source": [
    "显示初始化直线位置"
   ]
  },
  {
   "cell_type": "code",
   "execution_count": 281,
   "metadata": {},
   "outputs": [
    {
     "data": {
      "image/png": "[encoded data removed]",
      "text/plain": [
       "<matplotlib.figure.Figure at 0xb5e40f0>"
      ]
     },
     "metadata": {},
     "output_type": "display_data"
    }
   ],
   "source": [
    "# 直线第一个坐标（x1，y1）\n",
    "x1 = -2\n",
    "y1 = -1 / w[2] * (w[0] * 1 + w[1] * x1)\n",
    "# 直线第二个坐标（x2，y2）\n",
    "x2 = 2\n",
    "y2 = -1 / w[2] * (w[0] * 1 + w[1] * x2)\n",
    "# 作图\n",
    "plt.scatter(X[:50, 1], X[:50, 2], color='blue', marker='o', label='Positive')\n",
    "plt.scatter(X[50:, 1], X[50:, 2], color='red', marker='x', label='Negative')\n",
    "plt.plot([x1,x2], [y1,y2],'r')\n",
    "plt.xlabel('Feature 1')\n",
    "plt.ylabel('Feature 2')\n",
    "plt.legend(loc = 'upper left')\n",
    "plt.show()"
   ]
  },
  {
   "cell_type": "markdown",
   "metadata": {},
   "source": [
    "### 迭代更新训练"
   ]
  },
  {
   "cell_type": "code",
   "execution_count": 282,
   "metadata": {},
   "outputs": [
    {
     "name": "stdout",
     "output_type": "stream",
     "text": [
      "第   0次更新，分类错误的点个数：  25\n",
      "第 1次更新，分类错误的点个数：25\n",
      "第 2次更新，分类错误的点个数：25\n",
      "第 3次更新，分类错误的点个数：25\n",
      "第   4次更新，分类错误的点个数：  23\n",
      "第   5次更新，分类错误的点个数：  22\n",
      "第   6次更新，分类错误的点个数：  18\n",
      "第   7次更新，分类错误的点个数：  14\n",
      "第 8次更新，分类错误的点个数：14\n",
      "第   9次更新，分类错误的点个数：  11\n",
      "第  10次更新，分类错误的点个数：   9\n",
      "第11次更新，分类错误的点个数： 9\n",
      "第12次更新，分类错误的点个数： 9\n",
      "第13次更新，分类错误的点个数： 9\n",
      "第14次更新，分类错误的点个数： 9\n",
      "第15次更新，分类错误的点个数： 9\n",
      "第  16次更新，分类错误的点个数：   8\n",
      "第17次更新，分类错误的点个数： 8\n",
      "第18次更新，分类错误的点个数： 8\n",
      "第19次更新，分类错误的点个数： 8\n",
      "第  20次更新，分类错误的点个数：   7\n",
      "第21次更新，分类错误的点个数： 7\n",
      "第22次更新，分类错误的点个数： 7\n",
      "第23次更新，分类错误的点个数： 7\n",
      "第24次更新，分类错误的点个数： 7\n",
      "第25次更新，分类错误的点个数： 7\n",
      "第26次更新，分类错误的点个数： 7\n",
      "第27次更新，分类错误的点个数： 7\n",
      "第28次更新，分类错误的点个数： 7\n",
      "第29次更新，分类错误的点个数： 7\n",
      "第30次更新，分类错误的点个数： 7\n",
      "第31次更新，分类错误的点个数： 7\n",
      "第32次更新，分类错误的点个数： 7\n",
      "第33次更新，分类错误的点个数： 7\n",
      "第34次更新，分类错误的点个数： 7\n",
      "第35次更新，分类错误的点个数： 7\n",
      "第36次更新，分类错误的点个数： 7\n",
      "第37次更新，分类错误的点个数： 7\n",
      "第38次更新，分类错误的点个数： 7\n",
      "第39次更新，分类错误的点个数： 7\n",
      "第40次更新，分类错误的点个数： 7\n",
      "第41次更新，分类错误的点个数： 7\n",
      "第42次更新，分类错误的点个数： 7\n",
      "第43次更新，分类错误的点个数： 7\n",
      "第44次更新，分类错误的点个数： 7\n",
      "第45次更新，分类错误的点个数： 7\n",
      "第46次更新，分类错误的点个数： 7\n",
      "第47次更新，分类错误的点个数： 7\n",
      "第48次更新，分类错误的点个数： 7\n",
      "第49次更新，分类错误的点个数： 7\n",
      "第50次更新，分类错误的点个数： 7\n",
      "第51次更新，分类错误的点个数： 7\n",
      "第52次更新，分类错误的点个数： 7\n",
      "第53次更新，分类错误的点个数： 7\n",
      "第54次更新，分类错误的点个数： 7\n",
      "第55次更新，分类错误的点个数： 7\n",
      "第56次更新，分类错误的点个数： 7\n",
      "第57次更新，分类错误的点个数： 7\n",
      "第58次更新，分类错误的点个数： 7\n",
      "第59次更新，分类错误的点个数： 7\n",
      "第60次更新，分类错误的点个数： 7\n",
      "第61次更新，分类错误的点个数： 7\n",
      "第62次更新，分类错误的点个数： 7\n",
      "第63次更新，分类错误的点个数： 7\n",
      "第64次更新，分类错误的点个数： 7\n",
      "第65次更新，分类错误的点个数： 7\n",
      "第66次更新，分类错误的点个数： 7\n",
      "第67次更新，分类错误的点个数： 7\n",
      "第68次更新，分类错误的点个数： 7\n",
      "第69次更新，分类错误的点个数： 7\n",
      "第70次更新，分类错误的点个数： 7\n",
      "第71次更新，分类错误的点个数： 7\n",
      "第72次更新，分类错误的点个数： 7\n",
      "第73次更新，分类错误的点个数： 7\n",
      "第74次更新，分类错误的点个数： 7\n",
      "第75次更新，分类错误的点个数： 7\n",
      "第76次更新，分类错误的点个数： 7\n",
      "第77次更新，分类错误的点个数： 7\n",
      "第78次更新，分类错误的点个数： 7\n",
      "第79次更新，分类错误的点个数： 7\n",
      "第80次更新，分类错误的点个数： 7\n",
      "第81次更新，分类错误的点个数： 7\n",
      "第82次更新，分类错误的点个数： 7\n",
      "第83次更新，分类错误的点个数： 7\n",
      "第84次更新，分类错误的点个数： 7\n",
      "第85次更新，分类错误的点个数： 7\n",
      "第86次更新，分类错误的点个数： 7\n",
      "第87次更新，分类错误的点个数： 7\n",
      "第88次更新，分类错误的点个数： 7\n",
      "第89次更新，分类错误的点个数： 7\n",
      "第90次更新，分类错误的点个数： 7\n",
      "第91次更新，分类错误的点个数： 7\n",
      "第92次更新，分类错误的点个数： 7\n",
      "第93次更新，分类错误的点个数： 7\n",
      "第94次更新，分类错误的点个数： 7\n",
      "第95次更新，分类错误的点个数： 7\n",
      "第96次更新，分类错误的点个数： 7\n",
      "第97次更新，分类错误的点个数： 7\n",
      "第98次更新，分类错误的点个数： 7\n",
      "第99次更新，分类错误的点个数： 7\n"
     ]
    }
   ],
   "source": [
    "for i in range(100):\n",
    "    s = np.dot(X, w)\n",
    "    y_pred = np.ones_like(y)\n",
    "    loc_n = np.where(s < 0)[0]\n",
    "    y_pred[loc_n] = -1\n",
    "    num_fault = len(np.where(y != y_pred)[0])\n",
    "    \n",
    "    if num_fault == 0:\n",
    "        break\n",
    "    else:\n",
    "        r = np.random.choice(num_fault)        # 随机选择一个错误分类点\n",
    "        t = np.where(y != y_pred)[0][r]\n",
    "        w2 = w + y[t] * X[t, :].reshape((3,1))\n",
    "        \n",
    "        s = np.dot(X, w2)\n",
    "        y_pred = np.ones_like(y)\n",
    "        loc_n = np.where(s < 0)[0]\n",
    "        y_pred[loc_n] = -1\n",
    "        num_fault2 = len(np.where(y != y_pred)[0])\n",
    "        if num_fault2 <num_fault:\n",
    "            w = w2        # 犯的错误点更少，则更新w，否则w不变\n",
    "            print('第%4d次更新，分类错误的点个数：%4d' % (i, num_fault2))\n",
    "        else:\n",
    "            print('第%2d次更新，分类错误的点个数：%2d' % (i, num_fault))        "
   ]
  },
  {
   "cell_type": "markdown",
   "metadata": {},
   "source": [
    "迭代完毕后，得到更新后的权重系数$w$，绘制此时的分类直线是什么样子。"
   ]
  },
  {
   "cell_type": "code",
   "execution_count": 283,
   "metadata": {},
   "outputs": [
    {
     "data": {
      "image/png": "[encoded data removed]",
      "text/plain": [
       "<matplotlib.figure.Figure at 0xa262cc0>"
      ]
     },
     "metadata": {},
     "output_type": "display_data"
    }
   ],
   "source": [
    "# 直线第一个坐标（x1，y1）\n",
    "x1 = -2\n",
    "y1 = -1 / w[2] * (w[0] * 1 + w[1] * x1)\n",
    "# 直线第二个坐标（x2，y2）\n",
    "x2 = 2\n",
    "y2 = -1 / w[2] * (w[0] * 1 + w[1] * x2)\n",
    "# 作图\n",
    "plt.scatter(X[:50, 1], X[:50, 2], color='blue', marker='o', label='Positive')\n",
    "plt.scatter(X[50:, 1], X[50:, 2], color='red', marker='x', label='Negative')\n",
    "plt.plot([x1,x2], [y1,y2],'r')\n",
    "plt.xlabel('Feature 1')\n",
    "plt.ylabel('Feature 2')\n",
    "plt.legend(loc = 'upper left')\n",
    "plt.show()"
   ]
  },
  {
   "cell_type": "markdown",
   "metadata": {
    "collapsed": true
   },
   "source": [
    "### 计算分类正确率："
   ]
  },
  {
   "cell_type": "code",
   "execution_count": 284,
   "metadata": {},
   "outputs": [
    {
     "name": "stdout",
     "output_type": "stream",
     "text": [
      "accuracy: 0.93\n"
     ]
    }
   ],
   "source": [
    "s = np.dot(X, w)\n",
    "y_pred = np.ones_like(y)\n",
    "loc_n = np.where(s < 0)[0]\n",
    "y_pred[loc_n] = -1\n",
    "accuracy = len(np.where(y == y_pred)[0]) / len(y)\n",
    "print('accuracy: %.2f' % accuracy)"
   ]
  },
  {
   "cell_type": "markdown",
   "metadata": {},
   "source": [
    "### 注意："
   ]
  },
  {
   "cell_type": "markdown",
   "metadata": {},
   "source": [
    "经过实例验证，优化后的PCA算法不一定每次都能找到最优分类线。在足够的迭代次数下，使用一般的PCA算法，竟一般都能得到最佳的分类线，即使开始的时候，分类线会有所振荡。但最终都基本能寻找到最佳位置附近。这也是PCA算法的特点之一。下面是使用一般PCA算法处理非线性可分样本实例的效果。"
   ]
  },
  {
   "cell_type": "markdown",
   "metadata": {},
   "source": [
    "直线初始化"
   ]
  },
  {
   "cell_type": "code",
   "execution_count": 285,
   "metadata": {},
   "outputs": [
    {
     "data": {
      "image/png": "[encoded data removed]",
      "text/plain": [
       "<matplotlib.figure.Figure at 0x58d25c0>"
      ]
     },
     "metadata": {},
     "output_type": "display_data"
    }
   ],
   "source": [
    "# 权重初始化\n",
    "w = np.random.randn(3,1)\n",
    "\n",
    "# 直线第一个坐标（x1，y1）\n",
    "x1 = -2\n",
    "y1 = -1 / w[2] * (w[0] * 1 + w[1] * x1)\n",
    "# 直线第二个坐标（x2，y2）\n",
    "x2 = 2\n",
    "y2 = -1 / w[2] * (w[0] * 1 + w[1] * x2)\n",
    "# 作图\n",
    "plt.scatter(X[:50, 1], X[:50, 2], color='blue', marker='o', label='Positive')\n",
    "plt.scatter(X[50:, 1], X[50:, 2], color='red', marker='x', label='Negative')\n",
    "plt.plot([x1,x2], [y1,y2],'r')\n",
    "plt.xlabel('Feature 1')\n",
    "plt.ylabel('Feature 2')\n",
    "plt.legend(loc = 'upper left')\n",
    "plt.show()"
   ]
  },
  {
   "cell_type": "markdown",
   "metadata": {},
   "source": [
    "迭代训练"
   ]
  },
  {
   "cell_type": "code",
   "execution_count": 286,
   "metadata": {},
   "outputs": [
    {
     "name": "stdout",
     "output_type": "stream",
     "text": [
      "第 0次更新，分类错误的点个数：56\n",
      "第 1次更新，分类错误的点个数：23\n",
      "第 2次更新，分类错误的点个数：49\n",
      "第 3次更新，分类错误的点个数：46\n",
      "第 4次更新，分类错误的点个数：20\n",
      "第 5次更新，分类错误的点个数：26\n",
      "第 6次更新，分类错误的点个数：13\n",
      "第 7次更新，分类错误的点个数：22\n",
      "第 8次更新，分类错误的点个数：10\n",
      "第 9次更新，分类错误的点个数：19\n",
      "第10次更新，分类错误的点个数：10\n",
      "第11次更新，分类错误的点个数：17\n",
      "第12次更新，分类错误的点个数：10\n",
      "第13次更新，分类错误的点个数：17\n",
      "第14次更新，分类错误的点个数：10\n",
      "第15次更新，分类错误的点个数：15\n",
      "第16次更新，分类错误的点个数：10\n",
      "第17次更新，分类错误的点个数：13\n",
      "第18次更新，分类错误的点个数： 8\n",
      "第19次更新，分类错误的点个数：13\n",
      "第20次更新，分类错误的点个数： 6\n",
      "第21次更新，分类错误的点个数：13\n",
      "第22次更新，分类错误的点个数： 6\n",
      "第23次更新，分类错误的点个数：11\n",
      "第24次更新，分类错误的点个数： 4\n",
      "第25次更新，分类错误的点个数： 7\n",
      "第26次更新，分类错误的点个数：11\n",
      "第27次更新，分类错误的点个数：14\n",
      "第28次更新，分类错误的点个数： 4\n",
      "第29次更新，分类错误的点个数： 7\n",
      "第30次更新，分类错误的点个数：10\n",
      "第31次更新，分类错误的点个数：12\n",
      "第32次更新，分类错误的点个数： 5\n",
      "第33次更新，分类错误的点个数：10\n",
      "第34次更新，分类错误的点个数： 6\n",
      "第35次更新，分类错误的点个数：10\n",
      "第36次更新，分类错误的点个数： 6\n",
      "第37次更新，分类错误的点个数： 9\n",
      "第38次更新，分类错误的点个数： 5\n",
      "第39次更新，分类错误的点个数： 8\n",
      "第40次更新，分类错误的点个数： 5\n",
      "第41次更新，分类错误的点个数： 8\n",
      "第42次更新，分类错误的点个数： 6\n",
      "第43次更新，分类错误的点个数：10\n",
      "第44次更新，分类错误的点个数： 5\n",
      "第45次更新，分类错误的点个数： 7\n",
      "第46次更新，分类错误的点个数： 5\n",
      "第47次更新，分类错误的点个数： 8\n",
      "第48次更新，分类错误的点个数： 6\n",
      "第49次更新，分类错误的点个数：10\n",
      "第50次更新，分类错误的点个数： 5\n",
      "第51次更新，分类错误的点个数： 7\n",
      "第52次更新，分类错误的点个数： 5\n",
      "第53次更新，分类错误的点个数： 7\n",
      "第54次更新，分类错误的点个数： 6\n",
      "第55次更新，分类错误的点个数：11\n",
      "第56次更新，分类错误的点个数：13\n",
      "第57次更新，分类错误的点个数：10\n",
      "第58次更新，分类错误的点个数： 6\n",
      "第59次更新，分类错误的点个数： 9\n",
      "第60次更新，分类错误的点个数： 5\n",
      "第61次更新，分类错误的点个数： 7\n",
      "第62次更新，分类错误的点个数： 5\n",
      "第63次更新，分类错误的点个数： 6\n",
      "第64次更新，分类错误的点个数： 6\n",
      "第65次更新，分类错误的点个数：10\n",
      "第66次更新，分类错误的点个数： 6\n",
      "第67次更新，分类错误的点个数： 8\n",
      "第68次更新，分类错误的点个数： 4\n",
      "第69次更新，分类错误的点个数： 8\n",
      "第70次更新，分类错误的点个数： 4\n",
      "第71次更新，分类错误的点个数： 7\n",
      "第72次更新，分类错误的点个数： 5\n",
      "第73次更新，分类错误的点个数： 7\n",
      "第74次更新，分类错误的点个数： 5\n",
      "第75次更新，分类错误的点个数： 5\n",
      "第76次更新，分类错误的点个数： 6\n",
      "第77次更新，分类错误的点个数：11\n",
      "第78次更新，分类错误的点个数：12\n",
      "第79次更新，分类错误的点个数： 4\n",
      "第80次更新，分类错误的点个数： 7\n",
      "第81次更新，分类错误的点个数：10\n",
      "第82次更新，分类错误的点个数： 4\n",
      "第83次更新，分类错误的点个数： 5\n",
      "第84次更新，分类错误的点个数： 5\n",
      "第85次更新，分类错误的点个数： 5\n",
      "第86次更新，分类错误的点个数： 6\n",
      "第87次更新，分类错误的点个数：10\n",
      "第88次更新，分类错误的点个数： 5\n",
      "第89次更新，分类错误的点个数： 8\n",
      "第90次更新，分类错误的点个数： 4\n",
      "第91次更新，分类错误的点个数： 5\n",
      "第92次更新，分类错误的点个数： 5\n",
      "第93次更新，分类错误的点个数： 5\n",
      "第94次更新，分类错误的点个数： 6\n",
      "第95次更新，分类错误的点个数：11\n",
      "第96次更新，分类错误的点个数：11\n",
      "第97次更新，分类错误的点个数： 4\n",
      "第98次更新，分类错误的点个数： 7\n",
      "第99次更新，分类错误的点个数：10\n",
      "第100次更新，分类错误的点个数： 4\n",
      "第101次更新，分类错误的点个数： 5\n",
      "第102次更新，分类错误的点个数： 5\n",
      "第103次更新，分类错误的点个数： 4\n",
      "第104次更新，分类错误的点个数： 6\n",
      "第105次更新，分类错误的点个数：10\n",
      "第106次更新，分类错误的点个数： 5\n",
      "第107次更新，分类错误的点个数： 6\n",
      "第108次更新，分类错误的点个数： 5\n",
      "第109次更新，分类错误的点个数： 4\n",
      "第110次更新，分类错误的点个数： 7\n",
      "第111次更新，分类错误的点个数：10\n",
      "第112次更新，分类错误的点个数： 4\n",
      "第113次更新，分类错误的点个数： 5\n",
      "第114次更新，分类错误的点个数： 5\n",
      "第115次更新，分类错误的点个数： 5\n",
      "第116次更新，分类错误的点个数： 6\n",
      "第117次更新，分类错误的点个数：11\n",
      "第118次更新，分类错误的点个数：10\n",
      "第119次更新，分类错误的点个数： 4\n",
      "第120次更新，分类错误的点个数： 7\n",
      "第121次更新，分类错误的点个数： 8\n",
      "第122次更新，分类错误的点个数： 6\n",
      "第123次更新，分类错误的点个数： 6\n",
      "第124次更新，分类错误的点个数： 5\n",
      "第125次更新，分类错误的点个数： 4\n",
      "第126次更新，分类错误的点个数： 6\n",
      "第127次更新，分类错误的点个数：10\n",
      "第128次更新，分类错误的点个数： 9\n",
      "第129次更新，分类错误的点个数： 4\n",
      "第130次更新，分类错误的点个数： 7\n",
      "第131次更新，分类错误的点个数： 6\n",
      "第132次更新，分类错误的点个数： 4\n",
      "第133次更新，分类错误的点个数： 5\n",
      "第134次更新，分类错误的点个数： 5\n",
      "第135次更新，分类错误的点个数： 4\n",
      "第136次更新，分类错误的点个数： 6\n",
      "第137次更新，分类错误的点个数： 6\n",
      "第138次更新，分类错误的点个数： 4\n",
      "第139次更新，分类错误的点个数： 5\n",
      "第140次更新，分类错误的点个数： 5\n",
      "第141次更新，分类错误的点个数： 4\n",
      "第142次更新，分类错误的点个数： 6\n",
      "第143次更新，分类错误的点个数：10\n",
      "第144次更新，分类错误的点个数： 5\n",
      "第145次更新，分类错误的点个数： 5\n",
      "第146次更新，分类错误的点个数： 4\n",
      "第147次更新，分类错误的点个数： 5\n",
      "第148次更新，分类错误的点个数： 5\n",
      "第149次更新，分类错误的点个数： 4\n",
      "第150次更新，分类错误的点个数： 6\n",
      "第151次更新，分类错误的点个数： 6\n",
      "第152次更新，分类错误的点个数： 4\n",
      "第153次更新，分类错误的点个数： 5\n",
      "第154次更新，分类错误的点个数： 5\n",
      "第155次更新，分类错误的点个数： 4\n",
      "第156次更新，分类错误的点个数： 6\n",
      "第157次更新，分类错误的点个数：10\n",
      "第158次更新，分类错误的点个数： 5\n",
      "第159次更新，分类错误的点个数： 5\n",
      "第160次更新，分类错误的点个数： 4\n",
      "第161次更新，分类错误的点个数： 5\n",
      "第162次更新，分类错误的点个数： 5\n",
      "第163次更新，分类错误的点个数： 4\n",
      "第164次更新，分类错误的点个数： 6\n",
      "第165次更新，分类错误的点个数： 6\n",
      "第166次更新，分类错误的点个数： 4\n",
      "第167次更新，分类错误的点个数： 5\n",
      "第168次更新，分类错误的点个数： 5\n",
      "第169次更新，分类错误的点个数： 4\n",
      "第170次更新，分类错误的点个数： 6\n",
      "第171次更新，分类错误的点个数：10\n",
      "第172次更新，分类错误的点个数： 5\n",
      "第173次更新，分类错误的点个数： 5\n",
      "第174次更新，分类错误的点个数： 4\n",
      "第175次更新，分类错误的点个数： 5\n",
      "第176次更新，分类错误的点个数： 5\n",
      "第177次更新，分类错误的点个数： 4\n",
      "第178次更新，分类错误的点个数： 6\n",
      "第179次更新，分类错误的点个数： 6\n",
      "第180次更新，分类错误的点个数： 4\n",
      "第181次更新，分类错误的点个数： 5\n",
      "第182次更新，分类错误的点个数： 5\n",
      "第183次更新，分类错误的点个数： 4\n",
      "第184次更新，分类错误的点个数： 6\n",
      "第185次更新，分类错误的点个数：10\n",
      "第186次更新，分类错误的点个数： 5\n",
      "第187次更新，分类错误的点个数： 5\n",
      "第188次更新，分类错误的点个数： 4\n",
      "第189次更新，分类错误的点个数： 5\n",
      "第190次更新，分类错误的点个数： 5\n",
      "第191次更新，分类错误的点个数： 4\n",
      "第192次更新，分类错误的点个数： 6\n",
      "第193次更新，分类错误的点个数： 6\n",
      "第194次更新，分类错误的点个数： 4\n",
      "第195次更新，分类错误的点个数： 5\n",
      "第196次更新，分类错误的点个数： 5\n",
      "第197次更新，分类错误的点个数： 4\n",
      "第198次更新，分类错误的点个数： 6\n",
      "第199次更新，分类错误的点个数：10\n"
     ]
    }
   ],
   "source": [
    "for i in range(200):\n",
    "    s = np.dot(X, w)\n",
    "    y_pred = np.ones_like(y)\n",
    "    loc_n = np.where(s < 0)[0]\n",
    "    y_pred[loc_n] = -1\n",
    "    num_fault = len(np.where(y != y_pred)[0])\n",
    "    print('第%2d次更新，分类错误的点个数：%2d' % (i, num_fault))\n",
    "    if num_fault == 0:\n",
    "        break\n",
    "    else:\n",
    "        t = np.where(y != y_pred)[0][0]\n",
    "        w += y[t] * X[t, :].reshape((3,1))"
   ]
  },
  {
   "cell_type": "markdown",
   "metadata": {},
   "source": [
    "迭代完毕后，得到更新后的权重系数$w$ ，绘制此时的分类直线是什么样子。"
   ]
  },
  {
   "cell_type": "code",
   "execution_count": 287,
   "metadata": {},
   "outputs": [
    {
     "data": {
      "image/png": "[encoded data removed]",
      "text/plain": [
       "<matplotlib.figure.Figure at 0x9f2c860>"
      ]
     },
     "metadata": {},
     "output_type": "display_data"
    }
   ],
   "source": [
    "# 直线第一个坐标（x1，y1）\n",
    "x1 = -2\n",
    "y1 = -1 / w[2] * (w[0] * 1 + w[1] * x1)\n",
    "# 直线第二个坐标（x2，y2）\n",
    "x2 = 2\n",
    "y2 = -1 / w[2] * (w[0] * 1 + w[1] * x2)\n",
    "# 作图\n",
    "plt.scatter(X[:50, 1], X[:50, 2], color='blue', marker='o', label='Positive')\n",
    "plt.scatter(X[50:, 1], X[50:, 2], color='red', marker='x', label='Negative')\n",
    "plt.plot([x1,x2], [y1,y2],'r')\n",
    "plt.xlabel('Feature 1')\n",
    "plt.ylabel('Feature 2')\n",
    "plt.legend(loc = 'upper left')\n",
    "plt.show()"
   ]
  },
  {
   "cell_type": "markdown",
   "metadata": {},
   "source": [
    "计算分类正确率："
   ]
  },
  {
   "cell_type": "code",
   "execution_count": 288,
   "metadata": {},
   "outputs": [
    {
     "name": "stdout",
     "output_type": "stream",
     "text": [
      "accuracy: 0.95\n"
     ]
    }
   ],
   "source": [
    "s = np.dot(X, w)\n",
    "y_pred = np.ones_like(y)\n",
    "loc_n = np.where(s < 0)[0]\n",
    "y_pred[loc_n] = -1\n",
    "accuracy = len(np.where(y == y_pred)[0]) / len(y)\n",
    "print('accuracy: %.2f' % accuracy)"
   ]
  },
  {
   "cell_type": "markdown",
   "metadata": {},
   "source": [
    "## 总结"
   ]
  },
  {
   "cell_type": "markdown",
   "metadata": {},
   "source": [
    "PCA是机器学习最简单的算法之一。PCA处理线性可分问题，优化的PCA解决线性不可分的问题。实际验证表明，一般的PCA处理线性可分及线性不可分问题都有不错的表现，即一般能得到最佳的分类直线。"
   ]
  },
  {
   "cell_type": "code",
   "execution_count": null,
   "metadata": {
    "collapsed": true
   },
   "outputs": [],
   "source": []
  }
 ],
 "metadata": {
  "kernelspec": {
   "display_name": "Python 3",
   "language": "python",
   "name": "python3"
  },
  "language_info": {
   "codemirror_mode": {
    "name": "ipython",
    "version": 3
   },
   "file_extension": ".py",
   "mimetype": "text/x-python",
   "name": "python",
   "nbconvert_exporter": "python",
   "pygments_lexer": "ipython3",
   "version": "3.6.4"
  }
 },
 "nbformat": 4,
 "nbformat_minor": 2
}
