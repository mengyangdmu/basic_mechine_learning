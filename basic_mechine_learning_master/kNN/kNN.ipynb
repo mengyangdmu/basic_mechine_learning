{
 "cells": [
  {
   "cell_type": "markdown",
   "metadata": {},
   "source": [
    "# Python|分分钟教你学会写KNN算法 "
   ]
  },
  {
   "cell_type": "markdown",
   "metadata": {},
   "source": [
    "## 1. 什么是KNN算法?"
   ]
  },
  {
   "cell_type": "markdown",
   "metadata": {},
   "source": [
    "**K最近邻**(k-Nearest Neighbor，KNN)分类算法是一个比较成熟也是最简单的**机器学习**(Machine Learning)算法之一。该方法的思路是：如果一个样本在**特征空间**中与K个实例最为相似(即特征空间中最邻近)，那么这K个实例中大多数属于哪个类别，则该样本也属于这个类别。"
   ]
  },
  {
   "cell_type": "markdown",
   "metadata": {},
   "source": [
    "其中，计算样本与其他实例的相似性一般采用**距离衡量法**。离得越近越相似，离得越远越不相似。"
   ]
  },
  {
   "cell_type": "markdown",
   "metadata": {},
   "source": [
    "![KNN示意图](img/../images/1.jpg)"
   ]
  },
  {
   "cell_type": "markdown",
   "metadata": {},
   "source": [
    "如上图所示，K=3，距离绿色样本最近的3个实例中（圆圈内），有两个是红色三角形（正类）、一个是蓝色正方形（负类）。则该样本属于红色三角形（正类）。"
   ]
  },
  {
   "cell_type": "markdown",
   "metadata": {},
   "source": [
    "## 2. KNN算法本质"
   ]
  },
  {
   "cell_type": "markdown",
   "metadata": {},
   "source": [
    "我们知道,一般机器学习算法包括两个过程：**训练过程**和**测试过程**。训练过程通过使用机器学习算法在训练样本上迭代训练，得到较好的机器学习模型；测试过程是使用测试数据来验证模型的好坏，通过正确率来呈现。KNN算法的本质是在训练过程中，它将所有训练样本的输入和输出标签(label)都存储起来。测试过程中，计算测试样本与每个训练样本的距离，选取与测试样本距离最近的前k个训练样本。然后对着k个训练样本的label进行投票，票数最多的那一类别即为测试样本所归类。"
   ]
  },
  {
   "cell_type": "markdown",
   "metadata": {},
   "source": [
    "其实，KNN算法非常简单，可以说在训练过程中基本没有算法参与，只有**存储训练样本**。可以说KNN算法实际上是一种**识记类算法**。因此，KNN虽然简单，但是其明显包含了以下几个缺点：\n",
    "\n",
    "* 整个训练过程需要将所有的训练样本极其输出label存储起来，因此，**空间成本**很大。\n",
    "\n",
    "* 测试过程中，每个测试样本都需要与所有的训练样本进行比较，运行**时间成本**很大。\n",
    "\n",
    "* 采用距离比较的方式，分类**准确率**不高。"
   ]
  },
  {
   "cell_type": "markdown",
   "metadata": {},
   "source": [
    "好了，介绍完了KNN算法的理论知识之后，我相信大家都跃跃欲试了。接下来，我们就来手把手教大家使用Python实现一个KNN分类问题，进入机器学习实战大门。开始吧～"
   ]
  },
  {
   "cell_type": "markdown",
   "metadata": {},
   "source": [
    "## 3. 数据准备"
   ]
  },
  {
   "cell_type": "markdown",
   "metadata": {},
   "source": [
    "### 数据下载与归类"
   ]
  },
  {
   "cell_type": "markdown",
   "metadata": {},
   "source": [
    "首先，数据集我们选择经典的鸢尾花卉数据集（Iris）。Iris数据集每个样本x包含了花萼长度（sepal length）、花萼宽度（sepal width）、花瓣长度（petal length）、花瓣宽度（petal width）四个特征。样本标签y共有三类，分别是Setosa，Versicolor和Virginica。Iris数据集总共包含150个样本，每个类别由50个样本，整体构成一个150行5列的二维表，如下图展示了10个样本："
   ]
  },
  {
   "cell_type": "markdown",
   "metadata": {},
   "source": [
    "![](img/../images/2.png)"
   ]
  },
  {
   "cell_type": "markdown",
   "metadata": {},
   "source": [
    "如何获取这些数据呢？很简单，我们可以使用代码，直接从网上下载，下载后的数据集存放在'../data/'目录下。"
   ]
  },
  {
   "cell_type": "code",
   "execution_count": 27,
   "metadata": {
    "collapsed": true
   },
   "outputs": [],
   "source": [
    "import numpy as np\n",
    "import pandas as pd\n",
    "\n",
    "#data = pd.read_csv('https://archive.ics.uci.edu/ml/machine-learning-databases/iris/iris.data', header=None)    # 下载iris数据集\n",
    "data = pd.read_csv('./data/iris.data.csv', header=None)\n",
    "data.columns = ['sepal length', 'sepal width', 'petal length', 'petal width', 'species']    # 特征及类别名称"
   ]
  },
  {
   "cell_type": "markdown",
   "metadata": {},
   "source": [
    "然后，我们将三个类别的数据分别提取出来，setosa、versicolor、virginica分别用0、1、2来表示。"
   ]
  },
  {
   "cell_type": "code",
   "execution_count": 28,
   "metadata": {
    "collapsed": true
   },
   "outputs": [],
   "source": [
    "X = data.iloc[0:150, 0:4].values\n",
    "y = data.iloc[0:150, 4].values\n",
    "y[y == 'Iris-setosa'] = 0                                 # Iris-setosa 输出label用0表示\n",
    "y[y == 'Iris-versicolor'] = 1                             # Iris-versicolor 输出label用1表示\n",
    "y[y == 'Iris-virginica'] = 2                              # Iris-virginica 输出label用2表示\n",
    "X_setosa, y_setosa = X[0:50], y[0:50]                     # Iris-setosa 4个特征\n",
    "X_versicolor, y_versicolor = X[50:100], y[50:100]         # Iris-versicolor 4个特征\n",
    "X_virginica, y_virginica = X[100:150], y[100:150]         # Iris-virginica 4个特征"
   ]
  },
  {
   "cell_type": "markdown",
   "metadata": {},
   "source": [
    "接下来看一下三种类别不同特征的空间分布。为了可视性，我们只选择sepal length和petal length两个特征，在二维平面上作图。"
   ]
  },
  {
   "cell_type": "code",
   "execution_count": 29,
   "metadata": {},
   "outputs": [
    {
     "data": {
      "image/png": "[encoded data removed]",
      "text/plain": [
       "<matplotlib.figure.Figure at 0xa4d0ef0>"
      ]
     },
     "metadata": {},
     "output_type": "display_data"
    }
   ],
   "source": [
    "import matplotlib.pyplot as plt\n",
    "\n",
    "plt.scatter(X_setosa[:, 0], X_setosa[:, 2], color='red', marker='o', label='setosa')\n",
    "plt.scatter(X_versicolor[:, 0], X_versicolor[:, 2], color='blue', marker='^', label='versicolor')\n",
    "plt.scatter(X_virginica[:, 0], X_virginica[:, 2], color='green', marker='s', label='virginica')\n",
    "plt.xlabel('sepal length')\n",
    "plt.ylabel('petal length')\n",
    "plt.legend(loc = 'upper left')\n",
    "plt.show()"
   ]
  },
  {
   "cell_type": "markdown",
   "metadata": {},
   "source": [
    "由上图可见，三个类别之间是有较明显区别的。"
   ]
  },
  {
   "cell_type": "markdown",
   "metadata": {},
   "source": [
    "### 训练集、验证集、测试集划分"
   ]
  },
  {
   "cell_type": "markdown",
   "metadata": {},
   "source": [
    "接下来，我们要将每个类别的所有样本分成**训练样本**（training set）、**验证集(validation set)**和**测试样本**（test set），各占所有样本的比例分别为60%，20%，20%。"
   ]
  },
  {
   "cell_type": "code",
   "execution_count": 66,
   "metadata": {
    "collapsed": true
   },
   "outputs": [],
   "source": [
    "# training set\n",
    "X_setosa_train = X_setosa[:30, :]\n",
    "y_setosa_train = y_setosa[:30]\n",
    "X_versicolor_train = X_versicolor[:30, :]\n",
    "y_versicolor_train = y_versicolor[:30]\n",
    "X_virginica_train = X_virginica[:30, :]\n",
    "y_virginica_train = y_virginica[:30]\n",
    "X_train = np.vstack([X_setosa_train, X_versicolor_train, X_virginica_train])\n",
    "y_train = np.hstack([y_setosa_train, y_versicolor_train, y_virginica_train])\n",
    "\n",
    "# validation set\n",
    "X_setosa_val = X_setosa[30:40, :]\n",
    "y_setosa_val = y_setosa[30:40]\n",
    "X_versicolor_val = X_versicolor[30:40, :]\n",
    "y_versicolor_val = y_versicolor[30:40]\n",
    "X_virginica_val = X_virginica[30:40, :]\n",
    "y_virginica_val = y_virginica[30:40]\n",
    "X_val = np.vstack([X_setosa_val, X_versicolor_val, X_virginica_val])\n",
    "y_val = np.hstack([y_setosa_val, y_versicolor_val, y_virginica_val])\n",
    "\n",
    "# test set\n",
    "X_setosa_test = X_setosa[40:50, :]\n",
    "y_setosa_test = y_setosa[40:50]\n",
    "X_versicolor_test = X_versicolor[40:50, :]\n",
    "y_versicolor_test = y_versicolor[40:50]\n",
    "X_virginica_test = X_virginica[40:50, :]\n",
    "y_virginica_test = y_virginica[40:50]\n",
    "X_test = np.vstack([X_setosa_test, X_versicolor_test, X_virginica_test])\n",
    "y_test = np.hstack([y_setosa_test, y_versicolor_test, y_virginica_test])"
   ]
  },
  {
   "cell_type": "markdown",
   "metadata": {},
   "source": [
    "## 4. KNN训练函数和预测函数"
   ]
  },
  {
   "cell_type": "markdown",
   "metadata": {},
   "source": [
    "KNN的训练过程实际上是一种数据标类、数据存储的过程，不包含机器学习算法。首先我们需要定义一个**类**（class）来实现KNN算法模块。该类的初始化定义为："
   ]
  },
  {
   "cell_type": "markdown",
   "metadata": {},
   "source": [
    "```python\n",
    "class KNearestNeighbor(object):\n",
    "    def __init__(self):\n",
    "        pass\n",
    "```"
   ]
  },
  {
   "cell_type": "markdown",
   "metadata": {},
   "source": [
    "然后，在KNearestNeighbor类中定义训练函数，训练函数保存所有训练样本。"
   ]
  },
  {
   "cell_type": "markdown",
   "metadata": {},
   "source": [
    "```python\n",
    "def train(self, X, y):\n",
    "    self.X_train = X\n",
    "    self.y_train = y\n",
    "    \n",
    "```"
   ]
  },
  {
   "cell_type": "markdown",
   "metadata": {},
   "source": [
    "KNN的测试过程是核心部分。其中，有两点需要注意：\n",
    "\n",
    "* 衡量距离的方式\n",
    "\n",
    "* K值的选择"
   ]
  },
  {
   "cell_type": "markdown",
   "metadata": {},
   "source": [
    "### 衡量距离的方式"
   ]
  },
  {
   "cell_type": "markdown",
   "metadata": {},
   "source": [
    "KNN距离衡量一般有两种方式：**L1距离**和**L2距离**。"
   ]
  },
  {
   "cell_type": "markdown",
   "metadata": {},
   "source": [
    "L1距离的计算公式为："
   ]
  },
  {
   "cell_type": "markdown",
   "metadata": {},
   "source": [
    "$$d1(I_1,I_2)=\\sum_p|I_1^p-I_2^p|$$"
   ]
  },
  {
   "cell_type": "markdown",
   "metadata": {},
   "source": [
    "其中，$I_1$和$I_2$分别表示两个样本，$p$表示特征维度。"
   ]
  },
  {
   "cell_type": "markdown",
   "metadata": {},
   "source": [
    "L2距离的计算公式为："
   ]
  },
  {
   "cell_type": "markdown",
   "metadata": {},
   "source": [
    "$$d2(I_1,I_2)=\\sqrt{\\sum_p(I_1^p-I_2^p)^2}$$"
   ]
  },
  {
   "cell_type": "markdown",
   "metadata": {},
   "source": [
    "一般来说，L1距离和L2距离都比较常用。需要注意的是，如果两个样本距离越大，那么使用L2会继续扩大距离，即对距离大的情况**惩罚性越大**。反过来说，如果两个样本距离较小，那么使用L2会缩小距离，减小惩罚。这里，我们使用最常用的L2距离。"
   ]
  },
  {
   "cell_type": "markdown",
   "metadata": {},
   "source": [
    "### K值的选择"
   ]
  },
  {
   "cell_type": "markdown",
   "metadata": {},
   "source": [
    "KNN中K值的选择至关重要，K值太小会使模型过于复杂，造成**过拟合**（overfitting）；K值太大会使模型分类模糊，造成**欠拟合**(underfitting)。实际应用中，我们可以选择不同的K值，通过验证来决定K值大小。代码中，我们将K设定为可调参数。"
   ]
  },
  {
   "cell_type": "markdown",
   "metadata": {},
   "source": [
    "在KNearestNeighbor类中定义预测函数："
   ]
  },
  {
   "cell_type": "markdown",
   "metadata": {},
   "source": [
    "```python\n",
    "def predict(self, X, k=1)\n",
    "    # 计算L2距离\n",
    "    num_test = X.shape[0]\n",
    "    num_train = self.X_train.shape[0]\n",
    "    dists = np.zeros((num_test, num_train))    # 初始化距离函数\n",
    "    # because(X - X_train)*(X - X_train) = -2X*X_train + X*X + X_train*X_train, so\n",
    "    d1 = -2 * np.dot(X, self.X_train.T)    # shape (num_test, num_train)\n",
    "    d2 = np.sum(np.square(X), axis=1, keepdims=True)    # shape (num_test, 1)\n",
    "    d3 = np.sum(np.square(self.X_train), axis=1)    # shape (1, num_train)\n",
    "    dist = np.sqrt(d1 + d2 + d3)\n",
    "    # 根据K值，选择最可能属于的类别\n",
    "    y_pred = np.zeros(num_test)\n",
    "    for i in range(num_test):\n",
    "        dist_k_min = np.argsort(dist[i])[:k]    # 最近邻k个实例位置\n",
    "        y_kclose = self.y_train[dist_k_min]     # 最近邻k个实例对应的标签\n",
    "        y_pred[i] = np.argmax(np.bincount(y_kclose))    # 找出k个标签中从属类别最多的作为预测类别\n",
    "    \n",
    "    return y_pred\n",
    "```"
   ]
  },
  {
   "cell_type": "markdown",
   "metadata": {},
   "source": [
    "KNearestNeighbor类的完整定义代码如下："
   ]
  },
  {
   "cell_type": "code",
   "execution_count": 154,
   "metadata": {
    "collapsed": true
   },
   "outputs": [],
   "source": [
    "class KNearestNeighbor(object):\n",
    "    def __init__(self):\n",
    "        pass\n",
    "\n",
    "    # 训练函数\n",
    "    def train(self, X, y):\n",
    "        self.X_train = X\n",
    "        self.y_train = y\n",
    "    \n",
    "    # 预测函数\n",
    "    def predict(self, X, k=1):\n",
    "        # 计算L2距离\n",
    "        num_test = X.shape[0]\n",
    "        num_train = self.X_train.shape[0]\n",
    "        dists = np.zeros((num_test, num_train))    # 初始化距离函数\n",
    "        # because(X - X_train)*(X - X_train) = -2X*X_train + X*X + X_train*X_train, so\n",
    "        d1 = -2 * np.dot(X, self.X_train.T)    # shape (num_test, num_train)\n",
    "        d2 = np.sum(np.square(X), axis=1, keepdims=True)    # shape (num_test, 1)\n",
    "        d3 = np.sum(np.square(self.X_train), axis=1)    # shape (1, num_train)\n",
    "        dist = np.sqrt(d1 + d2 + d3)\n",
    "        # 根据K值，选择最可能属于的类别\n",
    "        y_pred = np.zeros(num_test)\n",
    "        for i in range(num_test):\n",
    "            dist_k_min = np.argsort(dist[i])[:k]    # 最近邻k个实例位置\n",
    "            y_kclose = self.y_train[dist_k_min]     # 最近邻k个实例对应的标签\n",
    "            y_pred[i] = np.argmax(np.bincount(y_kclose.tolist()))    # 找出k个标签中从属类别最多的作为预测类别\n",
    "\n",
    "        return y_pred\n"
   ]
  },
  {
   "cell_type": "markdown",
   "metadata": {},
   "source": [
    "## 5. 训练和预测"
   ]
  },
  {
   "cell_type": "markdown",
   "metadata": {},
   "source": [
    "### 选择合适的K值 "
   ]
  },
  {
   "cell_type": "markdown",
   "metadata": {},
   "source": [
    "首先，创建一个KnearestNeighbor实例对象。"
   ]
  },
  {
   "cell_type": "code",
   "execution_count": 155,
   "metadata": {
    "collapsed": true
   },
   "outputs": [],
   "source": [
    "KNN = KNearestNeighbor()"
   ]
  },
  {
   "cell_type": "markdown",
   "metadata": {},
   "source": [
    "然后，在验证集上进行k-fold交叉验证。选择不同的K值，根据验证结果，选择最佳的K值。"
   ]
  },
  {
   "cell_type": "code",
   "execution_count": 176,
   "metadata": {},
   "outputs": [
    {
     "name": "stdout",
     "output_type": "stream",
     "text": [
      "k = 3, accuracy: 0.888889\n",
      "k = 5, accuracy: 0.877778\n",
      "k = 7, accuracy: 0.888889\n",
      "k = 9, accuracy: 0.888889\n",
      "k = 11, accuracy: 0.866667\n",
      "k = 13, accuracy: 0.855556\n",
      "k = 15, accuracy: 0.877778\n",
      "Best K is: 3\n",
      "\n"
     ]
    }
   ],
   "source": [
    "num_folds = 5    # 训练数据分为5 folds\n",
    "K_classes = [3, 5, 7, 9, 11, 13, 15]    # 所有K值\n",
    "\n",
    "# 把训练数据分成5份\n",
    "X_train_folds = []\n",
    "y_train_folds = []\n",
    "X_train_folds = np.split(X_train, num_folds)\n",
    "y_train_folds = np.split(y_train, num_folds)\n",
    "\n",
    "# 字典用来存储不同K值对应的准确率\n",
    "K_accuracy = []\n",
    "k_best = K_classes[0]\n",
    "\n",
    "for k in K_classes:\n",
    "    accuracies = []\n",
    "    for i in range(num_folds):\n",
    "        Xtr = np.concatenate(X_train_folds[:i] + X_train_folds[i+1:])\n",
    "        ytr = np.concatenate(y_train_folds[:i] + y_train_folds[i+1:])\n",
    "        Xcv = X_train_folds[i]\n",
    "        ycv = y_train_folds[i]\n",
    "        KNN.train(Xtr, ytr)\n",
    "        ycv_pred = KNN.predict(Xcv, k=k)\n",
    "        accuracy = np.mean(ycv_pred == ycv)\n",
    "        accuracies.append(accuracy)\n",
    "    accuracies_avg = np.mean(accuracies)\n",
    "    K_accuracy.append(accuracies_avg)\n",
    "    if accuracies_avg > k_best:\n",
    "        k_best = accuracies_avg\n",
    "\n",
    "# 打印出验证结果\n",
    "for k in range(len(K_classes)):\n",
    "    print('k = %d, accuracy: %f' % (K_classes[k], K_accuracy[k]))\n",
    "print('Best K is: %d\\n' % k_best)"
   ]
  },
  {
   "cell_type": "markdown",
   "metadata": {},
   "source": [
    "作图，查看验证结果。"
   ]
  },
  {
   "cell_type": "code",
   "execution_count": 180,
   "metadata": {},
   "outputs": [
    {
     "data": {
      "image/png": "[encoded data removed]",
      "text/plain": [
       "<matplotlib.figure.Figure at 0xa4ffe80>"
      ]
     },
     "metadata": {},
     "output_type": "display_data"
    }
   ],
   "source": [
    "# Plot the cross validation\n",
    "plt.plot(K_classes, K_accuracy, 'ro-')\n",
    "plt.title('Cross-validation on k')\n",
    "plt.xlabel('K')\n",
    "plt.ylabel('Cross-validation accuracy')\n",
    "plt.show()"
   ]
  },
  {
   "cell_type": "markdown",
   "metadata": {},
   "source": [
    "可见，K值取3的时候，验证集的准确率最高。此例中，由于总体样本数据量不够多，所以验证结果并不明显。但是使用k-fold交叉验证来选择最佳K值是最常用的方法之一。"
   ]
  },
  {
   "cell_type": "markdown",
   "metadata": {},
   "source": [
    "### 对测试集进行预测"
   ]
  },
  {
   "cell_type": "markdown",
   "metadata": {},
   "source": [
    "选择完合适的K值之后，就可以对测试集进行预测分析了。"
   ]
  },
  {
   "cell_type": "code",
   "execution_count": 194,
   "metadata": {},
   "outputs": [
    {
     "name": "stdout",
     "output_type": "stream",
     "text": [
      "测试集预测准确率：1.000000\n"
     ]
    }
   ],
   "source": [
    "KNN.train(X_train, y_train)\n",
    "y_pred = KNN.predict(X_test, k=6)\n",
    "accuracy = np.mean(y_pred == y_test)\n",
    "print('测试集预测准确率：%f' % accuracy)"
   ]
  },
  {
   "cell_type": "markdown",
   "metadata": {},
   "source": [
    "最终结果显示，测试集预测准确率为100%。"
   ]
  },
  {
   "cell_type": "markdown",
   "metadata": {},
   "source": [
    "最后，我们把预测结果绘图表示。仍然只选择sepal length和petal length两个特征，在二维平面上作图。"
   ]
  },
  {
   "cell_type": "code",
   "execution_count": 204,
   "metadata": {},
   "outputs": [
    {
     "data": {
      "image/png": "[encoded data removed]",
      "text/plain": [
       "<matplotlib.figure.Figure at 0xc11bd30>"
      ]
     },
     "metadata": {},
     "output_type": "display_data"
    }
   ],
   "source": [
    "# 训练集\n",
    "plt.scatter(X_setosa_train[:, 0], X_setosa_train[:, 2], color='red', marker='o', label='setosa_train')\n",
    "plt.scatter(X_versicolor_train[:, 0], X_versicolor_train[:, 2], color='blue', marker='^', label='versicolor_train')\n",
    "plt.scatter(X_virginica_train[:, 0], X_virginica_train[:, 2], color='green', marker='s', label='virginica_train')\n",
    "# 测试集\n",
    "plt.scatter(X_setosa_test[:, 0], X_setosa_test[:, 2], color='y', marker='o', label='setosa_test')\n",
    "plt.scatter(X_versicolor_test[:, 0], X_versicolor_test[:, 2], color='y', marker='^', label='versicolor_test')\n",
    "plt.scatter(X_virginica_test[:, 0], X_virginica_test[:, 2], color='y', marker='s', label='virginica_test')\n",
    "\n",
    "plt.xlabel('sepal length')\n",
    "plt.ylabel('petal length')\n",
    "plt.legend(loc = 4)\n",
    "plt.show()"
   ]
  },
  {
   "cell_type": "markdown",
   "metadata": {},
   "source": [
    "## 6. KNN算法总结 "
   ]
  },
  {
   "cell_type": "markdown",
   "metadata": {},
   "source": [
    "KNN算法是一种最简单最直观的分类算法。它的训练过程保留了所有样本的所有特征，把所有信息都记下来，没有经过处理和提取。而其它机器学习算法包括神经网络则是在训练过程中提取最重要、最有代表性的特征。在这一点上，KNN算法还非常不够“智能”。但是，KNN算法作为机器学习的第一个算法，还是值得我们了解一下的。"
   ]
  },
  {
   "cell_type": "code",
   "execution_count": null,
   "metadata": {
    "collapsed": true
   },
   "outputs": [],
   "source": []
  }
 ],
 "metadata": {
  "kernelspec": {
   "display_name": "Python 3",
   "language": "python",
   "name": "python3"
  },
  "language_info": {
   "codemirror_mode": {
    "name": "ipython",
    "version": 3
   },
   "file_extension": ".py",
   "mimetype": "text/x-python",
   "name": "python",
   "nbconvert_exporter": "python",
   "pygments_lexer": "ipython3",
   "version": "3.6.3"
  }
 },
 "nbformat": 4,
 "nbformat_minor": 2
}
